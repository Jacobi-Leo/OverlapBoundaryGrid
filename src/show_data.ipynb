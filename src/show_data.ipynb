{
 "metadata": {
  "name": "",
  "signature": "sha256:676ef0709913a44ccc5c7432a39c3a7d9d56422c0191b231468dedc6fe5b7b10"
 },
 "nbformat": 3,
 "nbformat_minor": 0,
 "worksheets": [
  {
   "cells": [
    {
     "cell_type": "code",
     "collapsed": false,
     "input": [
      "cd ~/OverlapBoundaryGrid/src"
     ],
     "language": "python",
     "metadata": {},
     "outputs": [
      {
       "output_type": "stream",
       "stream": "stdout",
       "text": [
        "/home/liu/OverlapBoundaryGrid/src\n"
       ]
      }
     ],
     "prompt_number": 2
    },
    {
     "cell_type": "code",
     "collapsed": false,
     "input": [
      "ls"
     ],
     "language": "python",
     "metadata": {},
     "outputs": [
      {
       "output_type": "stream",
       "stream": "stdout",
       "text": [
        "fortran_gnuplot.f03  fortran_gnuplot.mod  fortran_gnuplot.o  grid.dat  \u001b[0m\u001b[01;32mmain\u001b[0m*  main.f03  main.o  \u001b[01;32mMakefile\u001b[0m*  plot.ps  raw.dat  repo.f03  repo.f03~  repo.mod  repo.o  show_data.ipynb\r\n"
       ]
      }
     ],
     "prompt_number": 1
    },
    {
     "cell_type": "code",
     "collapsed": false,
     "input": [
      "import numpy as np\n",
      "import matplotlib.pyplot as plt\n",
      "import matplotlib.animation as animation\n",
      "\n",
      "point_set = []\n",
      "f = open(\"raw.dat\")\n",
      "data = f.readlines()\n",
      "f.close()\n",
      "f2 = open(\"grid.dat\")\n",
      "grid = f2.readlines()[0].split()\n",
      "grid = map(float, grid)\n",
      "f2.close()\n",
      "points = []\n",
      "for item in data:\n",
      "    points.append(map(float,item.split()))\n",
      "del data\n",
      "#plt.plot(grid, points[200], '-o')\n",
      "#plt.show()\n",
      "points2 = []\n",
      "f2 = open(\"raw2.dat\")\n",
      "data = f2.readlines()\n",
      "for item in data:\n",
      "    points2.append(map(float, item.split()))\n",
      "del data\n",
      "point_set.append(points)\n",
      "point_set.append(points2)\n",
      "\n",
      "if len(points) != len(grid):\n",
      "    grid.insert(0, 0.)\n",
      "    grid.append(1.)\n",
      "\n",
      "#fig = plt.figure()\n",
      "#window = fig.add_subplot(111)\n",
      "#line, = window.plot(grid, points[0])\n",
      "#line2, = window.plot(grid, points2[0])\n",
      "\n",
      "#def update(data):\n",
      "#    line.set_ydata(data)\n",
      "#    return line,\n",
      "\n",
      "#ani = animation.FuncAnimation(fig, update, points, interval=2*10)\n",
      "#plt.show()\n",
      "\n",
      "fig = plt.figure()\n",
      "\n",
      "ax = plt.axes(xlim=(0, 1), ylim=(0, 1))\n",
      "\n",
      "N = 2\n",
      "lines = [plt.plot([], [])[0] for _ in range(N)]\n",
      "\n",
      "def init():    \n",
      "    for line in lines:\n",
      "        line.set_data([], [])\n",
      "    return lines\n",
      "\n",
      "def animate(i):\n",
      "    for j,line in enumerate(lines):\n",
      "        line.set_xdata(grid)\n",
      "        line.set_ydata(point_set[j][i])\n",
      "    return lines\n",
      "\n",
      "# Set up formatting for the movie files\n",
      "Writer = animation.writers['ffmpeg']\n",
      "writer = Writer(fps=20, metadata=dict(artist='Z. Y. Liu'), bitrate=1800)\n",
      "\n",
      "anim = animation.FuncAnimation(fig, animate, init_func=init,\n",
      "                               interval=20, blit=True)\n",
      "\n",
      "plt.show()\n",
      "#anim.save('line.avi', writer=writer)"
     ],
     "language": "python",
     "metadata": {},
     "outputs": [
      {
       "output_type": "stream",
       "stream": "stderr",
       "text": [
        "Exception in Tkinter callback\n",
        "Traceback (most recent call last):\n",
        "  File \"/usr/lib/python2.7/lib-tk/Tkinter.py\", line 1539, in __call__\n",
        "    return self.func(*args)\n",
        "  File \"/usr/lib/python2.7/lib-tk/Tkinter.py\", line 590, in callit\n",
        "    func(*args)\n",
        "  File \"/usr/lib/python2.7/dist-packages/matplotlib/backends/backend_tkagg.py\", line 143, in _on_timer\n",
        "    TimerBase._on_timer(self)\n",
        "  File \"/usr/lib/python2.7/dist-packages/matplotlib/backend_bases.py\", line 1273, in _on_timer\n",
        "    ret = func(*args, **kwargs)\n",
        "  File \"/usr/lib/python2.7/dist-packages/matplotlib/animation.py\", line 910, in _step\n",
        "    still_going = Animation._step(self, *args)\n",
        "  File \"/usr/lib/python2.7/dist-packages/matplotlib/animation.py\", line 769, in _step\n",
        "    self._draw_next_frame(framedata, self._blit)\n",
        "  File \"/usr/lib/python2.7/dist-packages/matplotlib/animation.py\", line 789, in _draw_next_frame\n",
        "    self._post_draw(framedata, blit)\n",
        "  File \"/usr/lib/python2.7/dist-packages/matplotlib/animation.py\", line 812, in _post_draw\n",
        "    self._blit_draw(self._drawn_artists, self._blit_cache)\n",
        "  File \"/usr/lib/python2.7/dist-packages/matplotlib/animation.py\", line 827, in _blit_draw\n",
        "    a.axes.draw_artist(a)\n",
        "  File \"/usr/lib/python2.7/dist-packages/matplotlib/axes/_base.py\", line 2104, in draw_artist\n",
        "    a.draw(self._cachedRenderer)\n",
        "  File \"/usr/lib/python2.7/dist-packages/matplotlib/artist.py\", line 59, in draw_wrapper\n",
        "    draw(artist, renderer, *args, **kwargs)\n",
        "  File \"/usr/lib/python2.7/dist-packages/matplotlib/lines.py\", line 665, in draw\n",
        "    self.recache()\n",
        "  File \"/usr/lib/python2.7/dist-packages/matplotlib/lines.py\", line 592, in recache\n",
        "    raise RuntimeError('xdata and ydata must be the same length')\n",
        "RuntimeError: xdata and ydata must be the same length\n"
       ]
      }
     ],
     "prompt_number": 2
    },
    {
     "cell_type": "code",
     "collapsed": false,
     "input": [
      "len(points[0])"
     ],
     "language": "python",
     "metadata": {},
     "outputs": [
      {
       "metadata": {},
       "output_type": "pyout",
       "prompt_number": 5,
       "text": [
        "32"
       ]
      }
     ],
     "prompt_number": 5
    },
    {
     "cell_type": "code",
     "collapsed": false,
     "input": [],
     "language": "python",
     "metadata": {},
     "outputs": []
    }
   ],
   "metadata": {}
  }
 ]
}