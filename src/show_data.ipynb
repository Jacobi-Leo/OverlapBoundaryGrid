{
 "metadata": {
  "name": "",
  "signature": "sha256:a1c21c098c21ad326b3d31f4d1d8757970d6a154c1f115b01dca9872ca516acd"
 },
 "nbformat": 3,
 "nbformat_minor": 0,
 "worksheets": [
  {
   "cells": [
    {
     "cell_type": "code",
     "collapsed": false,
     "input": [
      "cd ~/OverlapBoundaryGrid/src"
     ],
     "language": "python",
     "metadata": {},
     "outputs": [
      {
       "output_type": "stream",
       "stream": "stdout",
       "text": [
        "/home/liu/OverlapBoundaryGrid/src\n"
       ]
      }
     ],
     "prompt_number": 2
    },
    {
     "cell_type": "code",
     "collapsed": false,
     "input": [
      "ls"
     ],
     "language": "python",
     "metadata": {},
     "outputs": [
      {
       "output_type": "stream",
       "stream": "stdout",
       "text": [
        "fortran_gnuplot.f03  grid.dat  main.o     raw.dat   repo.o\r\n",
        "fortran_gnuplot.mod  \u001b[0m\u001b[01;32mmain\u001b[0m*     \u001b[01;32mMakefile\u001b[0m*  repo.f03  Untitled0.ipynb\r\n",
        "fortran_gnuplot.o    main.f03  plot.ps    repo.mod\r\n"
       ]
      }
     ],
     "prompt_number": 18
    },
    {
     "cell_type": "code",
     "collapsed": false,
     "input": [
      "import matplotlib.pyplot as plt\n",
      "f = open(\"raw.dat\")\n",
      "data = f.readlines()\n",
      "f.close()\n",
      "f2 = open(\"grid.dat\")\n",
      "grid = f2.readlines()[0].split()\n",
      "f2.close()\n",
      "points = []\n",
      "for item in data:\n",
      "    points.append(item.split())\n",
      "plt.plot(grid, points[150])\n",
      "plt.show()"
     ],
     "language": "python",
     "metadata": {},
     "outputs": [],
     "prompt_number": 76
    },
    {
     "cell_type": "code",
     "collapsed": false,
     "input": [],
     "language": "python",
     "metadata": {},
     "outputs": [],
     "prompt_number": 14
    }
   ],
   "metadata": {}
  }
 ]
}