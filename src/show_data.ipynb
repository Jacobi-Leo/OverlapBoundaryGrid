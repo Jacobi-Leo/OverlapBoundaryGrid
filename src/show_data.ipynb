{
 "metadata": {
  "name": "",
  "signature": "sha256:7500bb23631435bf2d486c2aba5b970aaac97c011a2228ba2ce5ce576cff103b"
 },
 "nbformat": 3,
 "nbformat_minor": 0,
 "worksheets": [
  {
   "cells": [
    {
     "cell_type": "code",
     "collapsed": false,
     "input": [
      "cd ~/OverlapBoundaryGrid/src"
     ],
     "language": "python",
     "metadata": {},
     "outputs": [
      {
       "output_type": "stream",
       "stream": "stdout",
       "text": [
        "/home/liu/OverlapBoundaryGrid/src\n"
       ]
      }
     ],
     "prompt_number": 2
    },
    {
     "cell_type": "code",
     "collapsed": false,
     "input": [
      "ls"
     ],
     "language": "python",
     "metadata": {},
     "outputs": [
      {
       "output_type": "stream",
       "stream": "stdout",
       "text": [
        "fortran_gnuplot.f03  fortran_gnuplot.mod  fortran_gnuplot.o  grid.dat  \u001b[0m\u001b[01;32mmain\u001b[0m*  main.f03  main.o  \u001b[01;32mMakefile\u001b[0m*  plot.ps  raw.dat  repo.f03  repo.f03~  repo.mod  repo.o  show_data.ipynb\r\n"
       ]
      }
     ],
     "prompt_number": 1
    },
    {
     "cell_type": "code",
     "collapsed": false,
     "input": [
      "import numpy as np\n",
      "import matplotlib.pyplot as plt\n",
      "import matplotlib.animation as animation\n",
      "\n",
      "point_set = []\n",
      "f = open(\"raw.dat\")\n",
      "data = f.readlines()\n",
      "f.close()\n",
      "f2 = open(\"grid.dat\")\n",
      "grid = f2.readlines()[0].split()\n",
      "grid = map(float, grid)\n",
      "f2.close()\n",
      "points = []\n",
      "for item in data:\n",
      "    points.append(map(float,item.split()))\n",
      "del data\n",
      "#plt.plot(grid, points[200], '-o')\n",
      "#plt.show()\n",
      "points2 = []\n",
      "f2 = open(\"raw2.dat\")\n",
      "data = f2.readlines()\n",
      "for item in data:\n",
      "    points2.append(map(float, item.split()))\n",
      "del data\n",
      "point_set.append(points)\n",
      "point_set.append(points2)\n",
      "\n",
      "#fig = plt.figure()\n",
      "#window = fig.add_subplot(111)\n",
      "#line, = window.plot(grid, points[0])\n",
      "#line2, = window.plot(grid, points2[0])\n",
      "\n",
      "#def update(data):\n",
      "#    line.set_ydata(data)\n",
      "#    return line,\n",
      "\n",
      "#ani = animation.FuncAnimation(fig, update, points, interval=2*10)\n",
      "#plt.show()\n",
      "\n",
      "fig = plt.figure()\n",
      "\n",
      "ax = plt.axes(xlim=(0, 1), ylim=(0, 1))\n",
      "\n",
      "N = 2\n",
      "lines = [plt.plot([], [])[0] for _ in range(N)]\n",
      "\n",
      "def init():    \n",
      "    for line in lines:\n",
      "        line.set_data([], [])\n",
      "    return lines\n",
      "\n",
      "def animate(i):\n",
      "    for j,line in enumerate(lines):\n",
      "        line.set_xdata(grid)\n",
      "        line.set_ydata(point_set[j][i])\n",
      "    return lines\n",
      "\n",
      "anim = animation.FuncAnimation(fig, animate, init_func=init,\n",
      "                               interval=20, blit=True)\n",
      "\n",
      "plt.show()"
     ],
     "language": "python",
     "metadata": {},
     "outputs": [],
     "prompt_number": 59
    },
    {
     "cell_type": "code",
     "collapsed": false,
     "input": [],
     "language": "python",
     "metadata": {},
     "outputs": []
    }
   ],
   "metadata": {}
  }
 ]
}