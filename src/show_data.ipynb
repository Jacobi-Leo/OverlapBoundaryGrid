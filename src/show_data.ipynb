{
 "metadata": {
  "name": "",
  "signature": "sha256:9d908de975c183ae8f751076e0c69de863ba10b54b8662c740d1a9441909b05d"
 },
 "nbformat": 3,
 "nbformat_minor": 0,
 "worksheets": [
  {
   "cells": [
    {
     "cell_type": "code",
     "collapsed": false,
     "input": [
      "cd ~/OverlapBoundaryGrid/src"
     ],
     "language": "python",
     "metadata": {},
     "outputs": [
      {
       "output_type": "stream",
       "stream": "stdout",
       "text": [
        "/home/liu/OverlapBoundaryGrid/src\n"
       ]
      }
     ],
     "prompt_number": 2
    },
    {
     "cell_type": "code",
     "collapsed": false,
     "input": [
      "ls"
     ],
     "language": "python",
     "metadata": {},
     "outputs": [
      {
       "output_type": "stream",
       "stream": "stdout",
       "text": [
        "fortran_gnuplot.f03  fortran_gnuplot.mod  fortran_gnuplot.o  grid.dat  \u001b[0m\u001b[01;32mmain\u001b[0m*  main.f03  main.o  \u001b[01;32mMakefile\u001b[0m*  plot.ps  raw.dat  repo.f03  repo.f03~  repo.mod  repo.o  show_data.ipynb\r\n"
       ]
      }
     ],
     "prompt_number": 1
    },
    {
     "cell_type": "code",
     "collapsed": false,
     "input": [],
     "language": "python",
     "metadata": {},
     "outputs": []
    },
    {
     "cell_type": "code",
     "collapsed": false,
     "input": [],
     "language": "python",
     "metadata": {},
     "outputs": [],
     "prompt_number": 1
    }
   ],
   "metadata": {}
  }
 ]
}